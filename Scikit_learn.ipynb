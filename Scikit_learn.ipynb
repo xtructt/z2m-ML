{
  "nbformat": 4,
  "nbformat_minor": 0,
  "metadata": {
    "colab": {
      "name": "Scikit-learn.ipynb",
      "provenance": [],
      "collapsed_sections": [],
      "authorship_tag": "ABX9TyMUFyLmSETaM5NHGY9IpVMA",
      "include_colab_link": true
    },
    "kernelspec": {
      "name": "python3",
      "display_name": "Python 3"
    }
  },
  "cells": [
    {
      "cell_type": "markdown",
      "metadata": {
        "id": "view-in-github",
        "colab_type": "text"
      },
      "source": [
        "<a href=\"https://colab.research.google.com/github/xtructt/z2m-ML/blob/master/Scikit_learn.ipynb\" target=\"_parent\"><img src=\"https://colab.research.google.com/assets/colab-badge.svg\" alt=\"Open In Colab\"/></a>"
      ]
    },
    {
      "cell_type": "markdown",
      "metadata": {
        "id": "b6aiG6x3XXIO",
        "colab_type": "text"
      },
      "source": [
        "# Introduction to Scikit-Learn\n",
        "This notebook demonstrates some of the most useful functionss of the beautiful Scikit-Learn library.\n",
        "What we're going to cover:\n",
        "0. An end-to-end Scikit-Learn workflow\n",
        "1. Geting the data ready\n",
        "2. Choose the right estimator/algorithm for our problems\n",
        "3. Fit the model/elgorithm and use it to make predictions on ouor data\n",
        "4. Evaluating a model\n",
        "5. Improvce a model\n",
        "6. Save and load a trained model\n",
        "7. Putting it all together"
      ]
    },
    {
      "cell_type": "code",
      "metadata": {
        "id": "rjYrGbaQkc_L",
        "colab_type": "code",
        "colab": {}
      },
      "source": [
        "what_were_covering = [\n",
        "'0. An end-to-end Scikit-Learn workflow',\n",
        "'1. Geting the data ready',\n",
        "'2. Choose the right estimator/algorithm for our problems',\n",
        "'3. Fit the model/elgorithm and use it to make predictions on ouor data',\n",
        "'4. Evaluating a model',\n",
        "'5. Improvce a model',\n",
        "'6. Save and load a trained model',\n",
        "'7. Putting it all together'\n",
        "]"
      ],
      "execution_count": 24,
      "outputs": []
    },
    {
      "cell_type": "markdown",
      "metadata": {
        "id": "bEgWS4he7fiW",
        "colab_type": "text"
      },
      "source": [
        "## 0.An end-to-end Scikit-Learn workflow"
      ]
    },
    {
      "cell_type": "code",
      "metadata": {
        "id": "gteQPsB48cSy",
        "colab_type": "code",
        "colab": {}
      },
      "source": [
        "#Standars imports\n",
        "import pandas as pd\n",
        "import numpy as np\n",
        "import matplotlib.pyplot as plt\n",
        "%matplotlib inline\n",
        "\n"
      ],
      "execution_count": 25,
      "outputs": []
    },
    {
      "cell_type": "code",
      "metadata": {
        "id": "n_aFQ1lI8Ai3",
        "colab_type": "code",
        "colab": {
          "base_uri": "https://localhost:8080/",
          "height": 195
        },
        "outputId": "3ccd54ea-0167-4186-d5bb-77d1edc03ee7"
      },
      "source": [
        "#1. get the dat ready\n",
        "\n",
        "file = \"https://raw.githubusercontent.com/xtructt/z2m-ML/master/Resources/zero-to-mastery-ml-master/data/heart-disease.csv\"\n",
        "heart_disease = pd.read_csv(file)\n",
        "heart_disease.head()"
      ],
      "execution_count": 9,
      "outputs": [
        {
          "output_type": "execute_result",
          "data": {
            "text/html": [
              "<div>\n",
              "<style scoped>\n",
              "    .dataframe tbody tr th:only-of-type {\n",
              "        vertical-align: middle;\n",
              "    }\n",
              "\n",
              "    .dataframe tbody tr th {\n",
              "        vertical-align: top;\n",
              "    }\n",
              "\n",
              "    .dataframe thead th {\n",
              "        text-align: right;\n",
              "    }\n",
              "</style>\n",
              "<table border=\"1\" class=\"dataframe\">\n",
              "  <thead>\n",
              "    <tr style=\"text-align: right;\">\n",
              "      <th></th>\n",
              "      <th>age</th>\n",
              "      <th>sex</th>\n",
              "      <th>cp</th>\n",
              "      <th>trestbps</th>\n",
              "      <th>chol</th>\n",
              "      <th>fbs</th>\n",
              "      <th>restecg</th>\n",
              "      <th>thalach</th>\n",
              "      <th>exang</th>\n",
              "      <th>oldpeak</th>\n",
              "      <th>slope</th>\n",
              "      <th>ca</th>\n",
              "      <th>thal</th>\n",
              "      <th>target</th>\n",
              "    </tr>\n",
              "  </thead>\n",
              "  <tbody>\n",
              "    <tr>\n",
              "      <th>0</th>\n",
              "      <td>63</td>\n",
              "      <td>1</td>\n",
              "      <td>3</td>\n",
              "      <td>145</td>\n",
              "      <td>233</td>\n",
              "      <td>1</td>\n",
              "      <td>0</td>\n",
              "      <td>150</td>\n",
              "      <td>0</td>\n",
              "      <td>2.3</td>\n",
              "      <td>0</td>\n",
              "      <td>0</td>\n",
              "      <td>1</td>\n",
              "      <td>1</td>\n",
              "    </tr>\n",
              "    <tr>\n",
              "      <th>1</th>\n",
              "      <td>37</td>\n",
              "      <td>1</td>\n",
              "      <td>2</td>\n",
              "      <td>130</td>\n",
              "      <td>250</td>\n",
              "      <td>0</td>\n",
              "      <td>1</td>\n",
              "      <td>187</td>\n",
              "      <td>0</td>\n",
              "      <td>3.5</td>\n",
              "      <td>0</td>\n",
              "      <td>0</td>\n",
              "      <td>2</td>\n",
              "      <td>1</td>\n",
              "    </tr>\n",
              "    <tr>\n",
              "      <th>2</th>\n",
              "      <td>41</td>\n",
              "      <td>0</td>\n",
              "      <td>1</td>\n",
              "      <td>130</td>\n",
              "      <td>204</td>\n",
              "      <td>0</td>\n",
              "      <td>0</td>\n",
              "      <td>172</td>\n",
              "      <td>0</td>\n",
              "      <td>1.4</td>\n",
              "      <td>2</td>\n",
              "      <td>0</td>\n",
              "      <td>2</td>\n",
              "      <td>1</td>\n",
              "    </tr>\n",
              "    <tr>\n",
              "      <th>3</th>\n",
              "      <td>56</td>\n",
              "      <td>1</td>\n",
              "      <td>1</td>\n",
              "      <td>120</td>\n",
              "      <td>236</td>\n",
              "      <td>0</td>\n",
              "      <td>1</td>\n",
              "      <td>178</td>\n",
              "      <td>0</td>\n",
              "      <td>0.8</td>\n",
              "      <td>2</td>\n",
              "      <td>0</td>\n",
              "      <td>2</td>\n",
              "      <td>1</td>\n",
              "    </tr>\n",
              "    <tr>\n",
              "      <th>4</th>\n",
              "      <td>57</td>\n",
              "      <td>0</td>\n",
              "      <td>0</td>\n",
              "      <td>120</td>\n",
              "      <td>354</td>\n",
              "      <td>0</td>\n",
              "      <td>1</td>\n",
              "      <td>163</td>\n",
              "      <td>1</td>\n",
              "      <td>0.6</td>\n",
              "      <td>2</td>\n",
              "      <td>0</td>\n",
              "      <td>2</td>\n",
              "      <td>1</td>\n",
              "    </tr>\n",
              "  </tbody>\n",
              "</table>\n",
              "</div>"
            ],
            "text/plain": [
              "   age  sex  cp  trestbps  chol  fbs  ...  exang  oldpeak  slope  ca  thal  target\n",
              "0   63    1   3       145   233    1  ...      0      2.3      0   0     1       1\n",
              "1   37    1   2       130   250    0  ...      0      3.5      0   0     2       1\n",
              "2   41    0   1       130   204    0  ...      0      1.4      2   0     2       1\n",
              "3   56    1   1       120   236    0  ...      0      0.8      2   0     2       1\n",
              "4   57    0   0       120   354    0  ...      1      0.6      2   0     2       1\n",
              "\n",
              "[5 rows x 14 columns]"
            ]
          },
          "metadata": {
            "tags": []
          },
          "execution_count": 9
        }
      ]
    },
    {
      "cell_type": "code",
      "metadata": {
        "id": "nYFIBJ-d8nMH",
        "colab_type": "code",
        "colab": {}
      },
      "source": [
        "#Create X (Features matrix)\n",
        "x = heart_disease.drop(\"target\", axis=1)\n",
        "#Create Y (Labels)\n",
        "y = heart_disease[\"target\"]"
      ],
      "execution_count": 10,
      "outputs": []
    },
    {
      "cell_type": "code",
      "metadata": {
        "id": "7HgLj04L9Qdj",
        "colab_type": "code",
        "colab": {
          "base_uri": "https://localhost:8080/",
          "height": 336
        },
        "outputId": "4b9fea2c-54cb-4ea9-c694-5bd3efa7137a"
      },
      "source": [
        "#Choose the right model and hyperparameters\n",
        "from sklearn.ensemble import RandomForestClassifier\n",
        "clf = RandomForestClassifier()\n",
        "# We'll keep the default parameters\n",
        "clf.get_params()"
      ],
      "execution_count": 11,
      "outputs": [
        {
          "output_type": "execute_result",
          "data": {
            "text/plain": [
              "{'bootstrap': True,\n",
              " 'ccp_alpha': 0.0,\n",
              " 'class_weight': None,\n",
              " 'criterion': 'gini',\n",
              " 'max_depth': None,\n",
              " 'max_features': 'auto',\n",
              " 'max_leaf_nodes': None,\n",
              " 'max_samples': None,\n",
              " 'min_impurity_decrease': 0.0,\n",
              " 'min_impurity_split': None,\n",
              " 'min_samples_leaf': 1,\n",
              " 'min_samples_split': 2,\n",
              " 'min_weight_fraction_leaf': 0.0,\n",
              " 'n_estimators': 100,\n",
              " 'n_jobs': None,\n",
              " 'oob_score': False,\n",
              " 'random_state': None,\n",
              " 'verbose': 0,\n",
              " 'warm_start': False}"
            ]
          },
          "metadata": {
            "tags": []
          },
          "execution_count": 11
        }
      ]
    },
    {
      "cell_type": "code",
      "metadata": {
        "id": "rocTKA-4Z6oD",
        "colab_type": "code",
        "colab": {}
      },
      "source": [
        "#3 Fit the model to the training data\n",
        "from sklearn.model_selection import train_test_split\n",
        "x_train, x_test, y_train, y_test = train_test_split(x,y, test_size = 0.2)"
      ],
      "execution_count": 12,
      "outputs": []
    },
    {
      "cell_type": "code",
      "metadata": {
        "id": "5b_kAIAcawPQ",
        "colab_type": "code",
        "colab": {}
      },
      "source": [
        "clf.fit(x_train,y_train);"
      ],
      "execution_count": 13,
      "outputs": []
    },
    {
      "cell_type": "code",
      "metadata": {
        "id": "PGp-g7tPbgzi",
        "colab_type": "code",
        "colab": {
          "base_uri": "https://localhost:8080/",
          "height": 67
        },
        "outputId": "23a6caa9-9675-405d-fc87-c1e31a962c15"
      },
      "source": [
        "y_preds = clf.predict(x_test)\n",
        "y_preds"
      ],
      "execution_count": 14,
      "outputs": [
        {
          "output_type": "execute_result",
          "data": {
            "text/plain": [
              "array([1, 1, 1, 1, 1, 0, 1, 1, 0, 1, 0, 1, 1, 0, 1, 0, 1, 1, 1, 1, 1, 0,\n",
              "       1, 1, 0, 0, 0, 0, 0, 1, 1, 1, 1, 1, 1, 0, 1, 1, 1, 1, 1, 0, 0, 1,\n",
              "       1, 0, 0, 0, 0, 1, 1, 1, 1, 1, 0, 1, 1, 0, 1, 1, 0])"
            ]
          },
          "metadata": {
            "tags": []
          },
          "execution_count": 14
        }
      ]
    },
    {
      "cell_type": "code",
      "metadata": {
        "id": "VPQr8536boOA",
        "colab_type": "code",
        "colab": {
          "base_uri": "https://localhost:8080/",
          "height": 34
        },
        "outputId": "923e15d9-df15-4b4a-ef1b-210a5a023941"
      },
      "source": [
        "#Step 4 eveluate the model\n",
        "clf.score(x_train,y_train)"
      ],
      "execution_count": 15,
      "outputs": [
        {
          "output_type": "execute_result",
          "data": {
            "text/plain": [
              "1.0"
            ]
          },
          "metadata": {
            "tags": []
          },
          "execution_count": 15
        }
      ]
    },
    {
      "cell_type": "code",
      "metadata": {
        "id": "vGOOJCN-b-PM",
        "colab_type": "code",
        "colab": {
          "base_uri": "https://localhost:8080/",
          "height": 34
        },
        "outputId": "9642abdf-378e-42cc-9263-7e61056511b7"
      },
      "source": [
        "clf.score(x_test,y_test)"
      ],
      "execution_count": 16,
      "outputs": [
        {
          "output_type": "execute_result",
          "data": {
            "text/plain": [
              "0.7049180327868853"
            ]
          },
          "metadata": {
            "tags": []
          },
          "execution_count": 16
        }
      ]
    },
    {
      "cell_type": "code",
      "metadata": {
        "id": "RMMh-OYccDFV",
        "colab_type": "code",
        "colab": {
          "base_uri": "https://localhost:8080/",
          "height": 168
        },
        "outputId": "d1517b52-a904-4909-ab72-03a77ee41bbd"
      },
      "source": [
        "from sklearn.metrics import classification_report, confusion_matrix, accuracy_score\n",
        "print(classification_report(y_test,y_preds))"
      ],
      "execution_count": 17,
      "outputs": [
        {
          "output_type": "stream",
          "text": [
            "              precision    recall  f1-score   support\n",
            "\n",
            "           0       0.76      0.55      0.64        29\n",
            "           1       0.68      0.84      0.75        32\n",
            "\n",
            "    accuracy                           0.70        61\n",
            "   macro avg       0.72      0.70      0.70        61\n",
            "weighted avg       0.72      0.70      0.70        61\n",
            "\n"
          ],
          "name": "stdout"
        }
      ]
    },
    {
      "cell_type": "code",
      "metadata": {
        "id": "7Ok08JBochtG",
        "colab_type": "code",
        "colab": {
          "base_uri": "https://localhost:8080/",
          "height": 50
        },
        "outputId": "31e37394-df25-4a86-8a6c-a062f6c89265"
      },
      "source": [
        "confusion_matrix(y_test,y_preds)"
      ],
      "execution_count": 18,
      "outputs": [
        {
          "output_type": "execute_result",
          "data": {
            "text/plain": [
              "array([[16, 13],\n",
              "       [ 5, 27]])"
            ]
          },
          "metadata": {
            "tags": []
          },
          "execution_count": 18
        }
      ]
    },
    {
      "cell_type": "code",
      "metadata": {
        "id": "AylHDZgWcxax",
        "colab_type": "code",
        "colab": {
          "base_uri": "https://localhost:8080/",
          "height": 34
        },
        "outputId": "881cd16d-55c7-47da-d69b-222cdddcd0a2"
      },
      "source": [
        "accuracy_score(y_test,y_preds)"
      ],
      "execution_count": 19,
      "outputs": [
        {
          "output_type": "execute_result",
          "data": {
            "text/plain": [
              "0.7049180327868853"
            ]
          },
          "metadata": {
            "tags": []
          },
          "execution_count": 19
        }
      ]
    },
    {
      "cell_type": "code",
      "metadata": {
        "id": "zXyDB7QVdLj4",
        "colab_type": "code",
        "colab": {
          "base_uri": "https://localhost:8080/",
          "height": 470
        },
        "outputId": "1c52ca89-d0c9-483b-bd5f-40c77e7a6198"
      },
      "source": [
        "#5. Improve a model\n",
        "# Try different amount of n_estimatiors\n",
        "for i in range (10,100,10):\n",
        "  print(f\"Trying model with {i} estimators...\")\n",
        "  clf = RandomForestClassifier(n_estimators=i).fit(x_train,y_train)\n",
        "  print(f\"Model accuracy on test set: {clf.score(x_test,y_test)*100:2f}%\")\n",
        "  print(\" \")"
      ],
      "execution_count": 20,
      "outputs": [
        {
          "output_type": "stream",
          "text": [
            "Trying model with 10 estimators...\n",
            "Model accuracy on test set: 75.409836%\n",
            " \n",
            "Trying model with 20 estimators...\n",
            "Model accuracy on test set: 72.131148%\n",
            " \n",
            "Trying model with 30 estimators...\n",
            "Model accuracy on test set: 72.131148%\n",
            " \n",
            "Trying model with 40 estimators...\n",
            "Model accuracy on test set: 70.491803%\n",
            " \n",
            "Trying model with 50 estimators...\n",
            "Model accuracy on test set: 72.131148%\n",
            " \n",
            "Trying model with 60 estimators...\n",
            "Model accuracy on test set: 75.409836%\n",
            " \n",
            "Trying model with 70 estimators...\n",
            "Model accuracy on test set: 68.852459%\n",
            " \n",
            "Trying model with 80 estimators...\n",
            "Model accuracy on test set: 72.131148%\n",
            " \n",
            "Trying model with 90 estimators...\n",
            "Model accuracy on test set: 70.491803%\n",
            " \n"
          ],
          "name": "stdout"
        }
      ]
    },
    {
      "cell_type": "code",
      "metadata": {
        "id": "azRulZP5et1A",
        "colab_type": "code",
        "colab": {}
      },
      "source": [
        "#6. save the model and load it\n",
        "import pickle\n",
        "pickle.dump(clf,open(\"random_forest_model_1.pkl\",\"wb\"))"
      ],
      "execution_count": 21,
      "outputs": []
    },
    {
      "cell_type": "code",
      "metadata": {
        "id": "XBYzP_TlfO8N",
        "colab_type": "code",
        "colab": {
          "base_uri": "https://localhost:8080/",
          "height": 34
        },
        "outputId": "dc5c2c6a-f57b-4f5e-f142-a6ee88267026"
      },
      "source": [
        "loaded_model = pickle.load(open(\"random_forest_model_1.pkl\",\"rb\"))\n",
        "loaded_model.score(x_test,y_test)"
      ],
      "execution_count": 22,
      "outputs": [
        {
          "output_type": "execute_result",
          "data": {
            "text/plain": [
              "0.7049180327868853"
            ]
          },
          "metadata": {
            "tags": []
          },
          "execution_count": 22
        }
      ]
    },
    {
      "cell_type": "markdown",
      "metadata": {
        "id": "DQjngltffxye",
        "colab_type": "text"
      },
      "source": [
        "##1. Geting our data ready to be used with the machine learning\n",
        "Three main thins we have to do:\n",
        "1. Split the data into features and labels(usually 'X' & 'Y')w\n",
        "2. Filling (also called impting) or disregarding missing values\n",
        "3. converting non-numerical values to numerical values (also called feature encoding)"
      ]
    },
    {
      "cell_type": "code",
      "metadata": {
        "id": "_OuQf9BfsVSz",
        "colab_type": "code",
        "colab": {}
      },
      "source": [
        ""
      ],
      "execution_count": null,
      "outputs": []
    }
  ]
}